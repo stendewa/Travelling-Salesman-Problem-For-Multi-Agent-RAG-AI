{
 "cells": [
  {
   "cell_type": "markdown",
   "id": "5456b91f-53f2-421d-bf2a-540ac0978d33",
   "metadata": {},
   "source": [
    "# Ant-Fungi Hybrid Optimization Algorithm\n",
    "\n",
    "Ant Colony Optimization (ACO) algorithm to incorporate some of the efficient path-finding strategies used by fungi (specifically slime mold or the mycelium network). This hybrid approach could leverage the speed of ants and the adaptive resilience of fungi, resulting in a potentially more powerful optimization algorithm.\n",
    "\n",
    "Concept: Ant-Fungi Hybrid Optimization Algorithm (AFHO)\n",
    "To design an algorithm that blends the strengths of both ACO and fungi-inspired methods, let's outline how this can be achieved:\n",
    "\n",
    "## Ant-like Exploration and Pheromone Trails:\n",
    "\n",
    "We'll maintain the classic ACO behavior where artificial ants traverse a network and deposit pheromones to communicate with each other, reinforcing the shortest paths.\n",
    "Ants will prioritize paths with higher pheromone levels but also explore new paths with a certain probability, balancing exploitation and exploration.\n",
    "Fungi-like Network Adaptation:\n",
    "\n",
    "Introduce a mycelium-inspired adaptive network structure where nodes (representing possible paths) can grow, shrink, or retract based on their utility.\n",
    "Use a feedback mechanism similar to how fungi reinforce nutrient-rich paths and retract from inefficient ones.\n",
    "Incorporate dynamic path adjustment that allows for the network to change in real-time, adapting to new conditions or obstacles.\n",
    "Hybrid Pheromone and Nutrient Flow:\n",
    "\n",
    "Instead of just relying on pheromones, introduce a \"nutrient flow\" concept similar to how fungi transport nutrients through their network.\n",
    "Paths that are frequently used by ants receive both pheromone reinforcement and nutrient flow, allowing for adaptive reinforcement.\n",
    "\n",
    "Key Benefits of the Hybrid Approach\n",
    "Speed and Adaptability: Combines the rapid path-finding capabilities of ants with the adaptive network resilience of fungi.\n",
    "Dynamic Optimization: Adapts to changing environments and finds optimal solutions even if the landscape changes.\n",
    "Scalability: Can be applied to large, complex networks like logistics, supply chain management, or transportation systems.\n",
    "This approach leverages the best of both worlds to provide a robust solution for complex optimization problems."
   ]
  },
  {
   "cell_type": "code",
   "execution_count": 3,
   "id": "3c59d7f6-49fd-4d5d-84e3-b9e29d455104",
   "metadata": {
    "tags": []
   },
   "outputs": [],
   "source": [
    "import pandas as pd\n",
    "import matplotlib.pyplot as plt\n",
    "import seaborn as sns\n",
    "import numpy as np\n",
    "\n",
    "import sko\n",
    "from sko.ACA import ACA_TSP\n"
   ]
  },
  {
   "cell_type": "markdown",
   "id": "7321dd6e-a668-48d3-8b4d-863a45df607e",
   "metadata": {},
   "source": [
    "Dataset is divided into 7 tables, one table for all orders that needs to be assigned a route – OrderList table, and 6 additional files specifying the problem and restrictions. For instance, the FreightRates table describes all available couriers, the weight gaps for each individual lane and rates associated. The PlantPorts table describes the allowed links between the warehouses and shipping ports in real world. Furthermore, the ProductsPerPlant table lists all supported warehouse-product combinations. The VmiCustomers lists all special cases, where warehouse is only allowed to support specific customer, while any other non-listed warehouse can supply any customer. Moreover, the WhCapacities lists warehouse capacities measured in number of orders per day and the WhCosts specifies the cost associated in storing the products in given warehouse measured in dollars per unit.\n",
    "\n",
    "\n",
    "\n",
    "Order ID is ID of the order made by the customer, product ID is the specific product ID customer ordered."
   ]
  },
  {
   "cell_type": "code",
   "execution_count": 5,
   "id": "007a9367-11a9-4f33-a25e-f41da7ada964",
   "metadata": {},
   "outputs": [
    {
     "name": "stdout",
     "output_type": "stream",
     "text": [
      "\n",
      "Optimized Transport Dataset (First 5 Rows):\n",
      "  City of Origin Destination City Stopover City Vehicle Plate  Distance (km)  \\\n",
      "0        Nairobi              Wau          Juba  NAI-WAU-0000         1868.0   \n",
      "1         Kigali           Butare          None  KIG-BUT-0001          125.0   \n",
      "2        Kampala           Kigali          None  KAM-KIG-0002          511.0   \n",
      "3        Kampala             Juba          None  KAM-JUB-0003          653.0   \n",
      "4      Lamu Port          Nairobi          None  LAM-NAI-0004          697.0   \n",
      "\n",
      "  Vehicle Type  Speed (km/h)  Fuel Consumption (L/100km) Traffic Congestion  \\\n",
      "0        Coupe    125.927097                   13.651332               High   \n",
      "1       Hybrid     81.799049                   11.457496             Medium   \n",
      "2       Saloon     92.434318                    8.220312             Medium   \n",
      "3       Hybrid     74.577302                    9.247005             Medium   \n",
      "4       Hybrid     65.447840                   10.155110             Medium   \n",
      "\n",
      "   Adjusted Speed (km/h)  Travel Time (hours)  Total Fuel Consumption (L)  \\\n",
      "0             105.927097            17.634770                  255.006879   \n",
      "1              81.799049             1.528135                   14.321870   \n",
      "2              92.434318             5.528250                   42.005796   \n",
      "3              74.577302             8.756015                   60.382945   \n",
      "4              65.447840            10.649702                   70.781114   \n",
      "\n",
      "   Peak Time  Off-Peak Time  Free-Flow Speed (km/h)  Free-Flow Time (hours)  \\\n",
      "0  21.778187      14.384187                     130               14.369231   \n",
      "1   1.888021       1.324163                     100                1.250000   \n",
      "2   6.493618       4.758900                     110                4.645455   \n",
      "3  11.280711       7.646494                     100                6.530000   \n",
      "4  12.071133       7.581773                     100                6.970000   \n",
      "\n",
      "   Travel Time Index (TTI)  \n",
      "0                 1.227259  \n",
      "1                 1.222508  \n",
      "2                 1.190034  \n",
      "3                 1.340891  \n",
      "4                 1.527934  \n"
     ]
    }
   ],
   "source": [
    "import pandas as pd\n",
    "import numpy as np\n",
    "import random\n",
    "\n",
    "# Precomputed driving distances from Google Maps\n",
    "precomputed_distances = {\n",
    "    ('Kigali', 'Butare'): 125,\n",
    "    ('Bujumbura', 'Gitega'): 98.9,\n",
    "    ('Juba', 'Wau'): 647,\n",
    "    ('Nairobi', 'Arusha'): 274,\n",
    "    ('Kampala', 'Bujumbura'): 720,\n",
    "    ('Kampala', 'Juba'): 653,\n",
    "    ('Kampala', 'Kigali'): 511,\n",
    "    ('Kigali', 'Bujumbura'): 273,\n",
    "    ('Nairobi', 'Bujumbura'): 1281,\n",
    "    ('Dar es Salaam', 'Kigali'): 1444,\n",
    "    ('Bujumbura', 'Dar es Salaam'): 1496,\n",
    "    ('Bujumbura', 'Kisumu'): 1064,\n",
    "    ('Nairobi', 'Tanzania'): 902,  \n",
    "    ('Nairobi', 'Dar es Salaam'): 1012,  \n",
    "    ('Nairobi', 'Kampala'): 663,  \n",
    "    ('Nairobi', 'Wau'): 1868,  \n",
    "    ('Nairobi', 'Kigali'): 1354,  \n",
    "    ('Lamu Port', 'Kampala'): 1352,\n",
    "    ('Lamu Port', 'Nairobi'): 697,\n",
    "    ('Lamu Port', 'Kigali'): 1808,\n",
    "    ('Lamu Port', 'Juba'): 1849,\n",
    "    ('Lamu Port', 'Bujumbura'): 1868,\n",
    "    ('Lamu Port', 'Kisumu'): 1046,\n",
    "    ('Lamu Port', 'Gitega'): 1769,\n",
    "    ('Lamu Port', 'Arusha'): 690,\n",
    "}\n",
    "\n",
    "# Stopover cities\n",
    "stopover_cities = {\n",
    "    ('Nairobi', 'Tanzania'): 'Arusha',\n",
    "    ('Nairobi', 'Dar es Salaam'): 'Mombasa',\n",
    "    ('Nairobi', 'Kampala'): 'Kisumu',\n",
    "    ('Nairobi', 'Wau'): 'Juba',\n",
    "    ('Nairobi', 'Kigali'): 'Arusha',\n",
    "    ('Lamu Port', 'Kigali'): 'Arusha',\n",
    "    ('Lamu Port', 'Bujumbura'): 'Arusha',\n",
    "    ('Lamu Port', 'Gitega'): 'Arusha',\n",
    "}\n",
    "\n",
    "# Expand city pairs to generate 1000 entries\n",
    "random.seed(42)\n",
    "expanded_city_pairs = random.choices(list(precomputed_distances.keys()), k=1000)\n",
    "\n",
    "# Function to safely look up stopover cities\n",
    "def get_stopover(origin, destination):\n",
    "    return stopover_cities.get((origin, destination)) or stopover_cities.get((destination, origin)) or None\n",
    "\n",
    "# Generate vehicle plates and stopover info\n",
    "stopovers = []\n",
    "vehicle_plates = []\n",
    "\n",
    "for i, (origin, destination) in enumerate(expanded_city_pairs):\n",
    "    stopovers.append(get_stopover(origin, destination))\n",
    "    vehicle_plates.append(f\"{origin[:3].upper()}-{destination[:3].upper()}-{str(i).zfill(4)}\")\n",
    "\n",
    "# Create DataFrame for city pairs\n",
    "sub_saharan_cities = pd.DataFrame({\n",
    "    'City of Origin': [pair[0] for pair in expanded_city_pairs],\n",
    "    'Destination City': [pair[1] for pair in expanded_city_pairs],\n",
    "    'Stopover City': stopovers,\n",
    "    'Vehicle Plate': vehicle_plates,\n",
    "    'Distance (km)': [precomputed_distances[pair] for pair in expanded_city_pairs]  # Use precomputed distance\n",
    "})\n",
    "\n",
    "# Vehicle types\n",
    "np.random.seed(42)\n",
    "vehicle_types = ['SUV', 'Truck', 'Saloon', 'Coupe', 'Hybrid']\n",
    "vehicle_type = np.random.choice(vehicle_types, size=len(vehicle_plates))\n",
    "\n",
    "# Speed limits per vehicle type\n",
    "speed_ranges = {\n",
    "    'SUV': (60, 120),\n",
    "    'Truck': (40, 90),\n",
    "    'Saloon': (50, 110),\n",
    "    'Coupe': (70, 130),\n",
    "    'Hybrid': (40, 100),\n",
    "}\n",
    "\n",
    "# Fuel consumption per 100 km (L/100km)\n",
    "fuel_consumption_ranges = {\n",
    "    'SUV': (10, 20),\n",
    "    'Truck': (20, 35),\n",
    "    'Saloon': (7, 15),\n",
    "    'Coupe': (8, 18),\n",
    "    'Hybrid': (5, 12),\n",
    "}\n",
    "\n",
    "# Generate speed and fuel consumption values\n",
    "speeds = []\n",
    "fuel_consumptions = []\n",
    "\n",
    "for vt in vehicle_type:\n",
    "    speed_min, speed_max = speed_ranges[vt]\n",
    "    fuel_min, fuel_max = fuel_consumption_ranges[vt]\n",
    "    \n",
    "    speed = np.random.uniform(speed_min, speed_max)  # Random speed within range\n",
    "    fuel_efficiency = np.random.uniform(fuel_min, fuel_max)  # Fuel usage per 100km\n",
    "    \n",
    "    speeds.append(speed)\n",
    "    fuel_consumptions.append(fuel_efficiency)\n",
    "\n",
    "# Create vehicle DataFrame\n",
    "realistic_vehicles = pd.DataFrame({\n",
    "    'Vehicle Plate': vehicle_plates,\n",
    "    'Vehicle Type': vehicle_type,\n",
    "    'Speed (km/h)': speeds,\n",
    "    'Fuel Consumption (L/100km)': fuel_consumptions,\n",
    "})\n",
    "\n",
    "# Add traffic congestion levels\n",
    "traffic_congestion = np.random.choice(['Low', 'Medium', 'High'], size=len(vehicle_plates))\n",
    "realistic_vehicles['Traffic Congestion'] = traffic_congestion\n",
    "\n",
    "# Adjust speed based on congestion (+/- 20 km/h)\n",
    "speed_adjustments = {'Low': +20, 'Medium': 0, 'High': -20}\n",
    "realistic_vehicles['Adjusted Speed (km/h)'] = realistic_vehicles.apply(\n",
    "    lambda row: max(30, row['Speed (km/h)'] + speed_adjustments[row['Traffic Congestion']]), axis=1\n",
    ")\n",
    "\n",
    "# Compute travel time in hours (distance / adjusted speed)\n",
    "merged_data = sub_saharan_cities.merge(realistic_vehicles, on='Vehicle Plate')\n",
    "\n",
    "merged_data['Travel Time (hours)'] = merged_data['Distance (km)'] / merged_data['Adjusted Speed (km/h)']\n",
    "\n",
    "# Compute fuel consumption for full trip\n",
    "merged_data['Total Fuel Consumption (L)'] = (merged_data['Distance (km)'] * merged_data['Fuel Consumption (L/100km)']) / 100\n",
    "\n",
    "# Define peak and off-peak times based on speed variations\n",
    "merged_data['Peak Time'] = merged_data['Travel Time (hours)'] * np.random.uniform(1.1, 1.3, len(merged_data))\n",
    "merged_data['Off-Peak Time'] = merged_data['Travel Time (hours)'] * np.random.uniform(0.7, 0.9, len(merged_data))\n",
    "\n",
    "# Compute Travel Time Index (TTI)\n",
    "# TTI = (Travel time under congestion) / (Free-flow travel time)\n",
    "merged_data['Free-Flow Speed (km/h)'] = merged_data['Vehicle Type'].map(lambda vt: speed_ranges[vt][1])\n",
    "merged_data['Free-Flow Time (hours)'] = merged_data['Distance (km)'] / merged_data['Free-Flow Speed (km/h)']\n",
    "merged_data['Travel Time Index (TTI)'] = merged_data['Travel Time (hours)'] / merged_data['Free-Flow Time (hours)']\n",
    "\n",
    "# Save the merged dataset\n",
    "merged_data.to_csv('optimized_transport_data.csv', index=False)\n",
    "\n",
    "# Display the first few rows\n",
    "print(\"\\nOptimized Transport Dataset (First 5 Rows):\")\n",
    "print(merged_data.head())\n"
   ]
  },
  {
   "cell_type": "code",
   "execution_count": 11,
   "id": "4c5d86f6-ffaa-455c-ba3e-9b67ce55b7db",
   "metadata": {
    "tags": []
   },
   "outputs": [
    {
     "name": "stdout",
     "output_type": "stream",
     "text": [
      "['Nairobi' 'Kigali' 'Kampala' 'Lamu Port' 'Juba' 'Bujumbura'\n",
      " 'Dar es Salaam']\n"
     ]
    }
   ],
   "source": [
    "unique_origins = merged_data[\"City of Origin\"].unique()\n",
    "print(unique_origins)"
   ]
  },
  {
   "cell_type": "code",
   "execution_count": 13,
   "id": "bb835a40-31d6-41b6-a85e-c2ea5615e101",
   "metadata": {
    "tags": []
   },
   "outputs": [
    {
     "name": "stdout",
     "output_type": "stream",
     "text": [
      "['Wau' 'Butare' 'Kigali' 'Juba' 'Nairobi' 'Kisumu' 'Dar es Salaam'\n",
      " 'Tanzania' 'Bujumbura' 'Kampala' 'Arusha' 'Gitega']\n"
     ]
    }
   ],
   "source": [
    "unique_destinations = merged_data[\"Destination City\"].unique()\n",
    "print(unique_destinations)"
   ]
  },
  {
   "cell_type": "code",
   "execution_count": 15,
   "id": "627a203c-579d-4259-aecf-01c9567478da",
   "metadata": {
    "tags": []
   },
   "outputs": [
    {
     "name": "stdout",
     "output_type": "stream",
     "text": [
      "['Juba' None 'Arusha' 'Mombasa' 'Kisumu']\n"
     ]
    }
   ],
   "source": [
    "unique_stopover = merged_data[\"Stopover City\"].unique()\n",
    "print(unique_stopover)"
   ]
  },
  {
   "cell_type": "code",
   "execution_count": null,
   "id": "a5517fad-632b-4740-9543-33847836bff9",
   "metadata": {},
   "outputs": [],
   "source": []
  }
 ],
 "metadata": {
  "kernelspec": {
   "display_name": "Python 3 (ipykernel)",
   "language": "python",
   "name": "python3"
  },
  "language_info": {
   "codemirror_mode": {
    "name": "ipython",
    "version": 3
   },
   "file_extension": ".py",
   "mimetype": "text/x-python",
   "name": "python",
   "nbconvert_exporter": "python",
   "pygments_lexer": "ipython3",
   "version": "3.11.7"
  }
 },
 "nbformat": 4,
 "nbformat_minor": 5
}
